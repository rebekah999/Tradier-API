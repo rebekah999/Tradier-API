{
 "cells": [
  {
   "cell_type": "markdown",
   "metadata": {},
   "source": [
    "# Tradier API"
   ]
  },
  {
   "cell_type": "markdown",
   "metadata": {},
   "source": [
    "Obtain Daily Historical Data with Tradier's Developer Sandbox API https://documentation.tradier.com/brokerage-api"
   ]
  },
  {
   "cell_type": "markdown",
   "metadata": {},
   "source": [
    "Code from https://github.com/rebekah999/Tradier-API repository by Rebekah Fowler"
   ]
  },
  {
   "cell_type": "code",
   "execution_count": 1,
   "metadata": {},
   "outputs": [],
   "source": [
    "# basic imports for overall functionality\n",
    "import numpy as np \n",
    "import pandas as pd\n",
    "import requests\n",
    "import ast\n",
    "import http.client as httplib\n",
    "from datetime import timedelta\n",
    "\n",
    "# Error handling\n",
    "import traceback\n",
    "\n",
    "#Saving list a file\n",
    "import pickle"
   ]
  },
  {
   "cell_type": "markdown",
   "metadata": {},
   "source": [
    "## API Class"
   ]
  },
  {
   "cell_type": "code",
   "execution_count": 2,
   "metadata": {},
   "outputs": [],
   "source": [
    "class API():\n",
    "    \n",
    "    def __init__(self, portfolio, key):\n",
    "        self.portfolio = [p.upper() for p in list(sorted(set(portfolio)))]\n",
    "        self.key = key\n",
    "        \n",
    "        self.start = str(pd.datetime.today() - timedelta(days=100)).split(\" \")[0] #days can be changed to retrieve more or less data\n",
    "        self.end = str(pd.datetime.today() + timedelta(days=1)).split(\" \")[0]\n",
    "        self.now = str(pd.datetime.today()).split(\" \")[0]\n",
    "        \n",
    "        self.loop_port = self.loop_port(self.portfolio, self.start, self.end, self.key)\n",
    "        \n",
    "        \n",
    "    \n",
    "    #API \n",
    "    def tradier(self, key, endpoint, par):\n",
    "        connection = httplib.HTTPSConnection('sandbox.tradier.com', 443, timeout = 30)\n",
    "        # Headers\n",
    "\n",
    "        headers = {\"Accept\":\"application/json\",\n",
    "               \"Authorization\":\"Bearer {}\".format(key)}\n",
    "\n",
    "        # Send synchronously\n",
    "        connection.request('GET', '{}{}'.format(endpoint, par), None, headers, encode_chunked=False)\n",
    "        try:\n",
    "          response = connection.getresponse()\n",
    "          content = response.read()\n",
    "          # Success\n",
    "          print('Response status ' + str(response.status))\n",
    "          #print(response.headers)\n",
    "\n",
    "        except httplib.HTTPException:\n",
    "            # Exception\n",
    "            print('Exception during request')\n",
    "        return content\n",
    "\n",
    "    def b_decode(self, content):\n",
    "        new_str = content.decode('utf-8') # Decode using the utf-8 encoding\n",
    "        save = ast.literal_eval(new_str)\n",
    "        col1 = [col for col in save.keys()][0]\n",
    "        cut_down = save[col1]\n",
    "\n",
    "        col2 = [col for col in cut_down.keys()][0]\n",
    "        cut_down2 = cut_down[col2]\n",
    "\n",
    "        df = pd.DataFrame(cut_down2)\n",
    "        df.columns = df.columns.str.capitalize()\n",
    "        return df\n",
    "    \n",
    "    def loop_port(self, portfolio, start, end, key):\n",
    "        port = pd.DataFrame(columns=['Close', 'Date', 'High', 'Low', 'Open', 'Volume', 'Symbol'])\n",
    "        slist = []\n",
    "        for symbol in portfolio:\n",
    "\n",
    "            content = self.tradier(key, '/v1/markets/history',\n",
    "                      \"?symbol={}&session_filter=open&start={}&end={}\".format(symbol, start, end))\n",
    "            try:\n",
    "                file = pd.DataFrame(self.b_decode(content))\n",
    "                file[\"Symbol\"] = symbol\n",
    "                slist.append(file)\n",
    "                print(symbol)\n",
    "            except:\n",
    "                print(content, symbol)\n",
    "\n",
    "        return slist"
   ]
  },
  {
   "cell_type": "markdown",
   "metadata": {},
   "source": [
    "# Inputs"
   ]
  },
  {
   "cell_type": "code",
   "execution_count": 3,
   "metadata": {},
   "outputs": [],
   "source": [
    "#List of portfolio stocks does not have to be capitalized\n",
    "portfolio = [\"SPY\", \"DIA\", \"AAPL\"] # <-- Add more symbols here\n",
    "\n",
    "\n",
    "key = \"Your-API-Key\" # Tradier API Key goes here"
   ]
  },
  {
   "cell_type": "markdown",
   "metadata": {},
   "source": [
    "# Save to csv"
   ]
  },
  {
   "cell_type": "code",
   "execution_count": 4,
   "metadata": {},
   "outputs": [
    {
     "name": "stdout",
     "output_type": "stream",
     "text": [
      "Response status 200\n",
      "AAPL\n",
      "Response status 200\n",
      "DIA\n",
      "Response status 200\n",
      "SPY\n"
     ]
    }
   ],
   "source": [
    "api = API(portfolio, key) #a variable is standard for some functions to work"
   ]
  },
  {
   "cell_type": "code",
   "execution_count": 5,
   "metadata": {},
   "outputs": [],
   "source": [
    "portfolio_list = api.loop_port"
   ]
  },
  {
   "cell_type": "code",
   "execution_count": 6,
   "metadata": {},
   "outputs": [
    {
     "data": {
      "text/html": [
       "<div>\n",
       "<style scoped>\n",
       "    .dataframe tbody tr th:only-of-type {\n",
       "        vertical-align: middle;\n",
       "    }\n",
       "\n",
       "    .dataframe tbody tr th {\n",
       "        vertical-align: top;\n",
       "    }\n",
       "\n",
       "    .dataframe thead th {\n",
       "        text-align: right;\n",
       "    }\n",
       "</style>\n",
       "<table border=\"1\" class=\"dataframe\">\n",
       "  <thead>\n",
       "    <tr style=\"text-align: right;\">\n",
       "      <th></th>\n",
       "      <th>Close</th>\n",
       "      <th>Date</th>\n",
       "      <th>High</th>\n",
       "      <th>Low</th>\n",
       "      <th>Open</th>\n",
       "      <th>Volume</th>\n",
       "      <th>Symbol</th>\n",
       "    </tr>\n",
       "  </thead>\n",
       "  <tbody>\n",
       "    <tr>\n",
       "      <th>66</th>\n",
       "      <td>309.54</td>\n",
       "      <td>2020-05-14</td>\n",
       "      <td>309.79</td>\n",
       "      <td>301.5300</td>\n",
       "      <td>304.51</td>\n",
       "      <td>39732269</td>\n",
       "      <td>AAPL</td>\n",
       "    </tr>\n",
       "    <tr>\n",
       "      <th>67</th>\n",
       "      <td>307.71</td>\n",
       "      <td>2020-05-15</td>\n",
       "      <td>307.90</td>\n",
       "      <td>300.2100</td>\n",
       "      <td>300.35</td>\n",
       "      <td>41587094</td>\n",
       "      <td>AAPL</td>\n",
       "    </tr>\n",
       "    <tr>\n",
       "      <th>68</th>\n",
       "      <td>314.96</td>\n",
       "      <td>2020-05-18</td>\n",
       "      <td>316.50</td>\n",
       "      <td>310.3241</td>\n",
       "      <td>313.17</td>\n",
       "      <td>33843125</td>\n",
       "      <td>AAPL</td>\n",
       "    </tr>\n",
       "    <tr>\n",
       "      <th>69</th>\n",
       "      <td>313.14</td>\n",
       "      <td>2020-05-19</td>\n",
       "      <td>318.52</td>\n",
       "      <td>313.0100</td>\n",
       "      <td>315.03</td>\n",
       "      <td>25432385</td>\n",
       "      <td>AAPL</td>\n",
       "    </tr>\n",
       "    <tr>\n",
       "      <th>70</th>\n",
       "      <td>319.23</td>\n",
       "      <td>2020-05-20</td>\n",
       "      <td>319.52</td>\n",
       "      <td>316.2000</td>\n",
       "      <td>316.68</td>\n",
       "      <td>27850874</td>\n",
       "      <td>AAPL</td>\n",
       "    </tr>\n",
       "  </tbody>\n",
       "</table>\n",
       "</div>"
      ],
      "text/plain": [
       "     Close        Date    High       Low    Open    Volume Symbol\n",
       "66  309.54  2020-05-14  309.79  301.5300  304.51  39732269   AAPL\n",
       "67  307.71  2020-05-15  307.90  300.2100  300.35  41587094   AAPL\n",
       "68  314.96  2020-05-18  316.50  310.3241  313.17  33843125   AAPL\n",
       "69  313.14  2020-05-19  318.52  313.0100  315.03  25432385   AAPL\n",
       "70  319.23  2020-05-20  319.52  316.2000  316.68  27850874   AAPL"
      ]
     },
     "execution_count": 6,
     "metadata": {},
     "output_type": "execute_result"
    }
   ],
   "source": [
    "portfolio_list[0].tail()"
   ]
  },
  {
   "cell_type": "markdown",
   "metadata": {},
   "source": [
    "### To save data into a file"
   ]
  },
  {
   "cell_type": "code",
   "execution_count": 7,
   "metadata": {},
   "outputs": [],
   "source": [
    "with open('Tradier_API.data', 'wb') as filehandle:\n",
    "    # store the data as binary data stream\n",
    "    pickle.dump(portfolio_list, filehandle)\n",
    "    filehandle.close()"
   ]
  },
  {
   "cell_type": "markdown",
   "metadata": {},
   "source": [
    "### Use to code below to open saved pickle file in another enviroment or use a.loop_port in this enviroment"
   ]
  },
  {
   "cell_type": "code",
   "execution_count": 11,
   "metadata": {},
   "outputs": [],
   "source": [
    "#You can open saved pickel file like this \n",
    "with open(\"Tradier_API.data\", 'rb') as filehandle:\n",
    "        API_DATA = pickle.load(filehandle) # API_DATA == portfolio_list"
   ]
  },
  {
   "cell_type": "code",
   "execution_count": null,
   "metadata": {},
   "outputs": [],
   "source": []
  }
 ],
 "metadata": {
  "kernelspec": {
   "display_name": "Python 3",
   "language": "python",
   "name": "python3"
  },
  "language_info": {
   "codemirror_mode": {
    "name": "ipython",
    "version": 3
   },
   "file_extension": ".py",
   "mimetype": "text/x-python",
   "name": "python",
   "nbconvert_exporter": "python",
   "pygments_lexer": "ipython3",
   "version": "3.6.5"
  }
 },
 "nbformat": 4,
 "nbformat_minor": 2
}
